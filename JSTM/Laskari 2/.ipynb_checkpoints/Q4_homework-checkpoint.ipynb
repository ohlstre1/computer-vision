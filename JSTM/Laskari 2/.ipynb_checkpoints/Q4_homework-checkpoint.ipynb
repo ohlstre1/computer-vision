{
 "cells": [
  {
   "cell_type": "markdown",
   "metadata": {},
   "source": [
    "# Question 4 (Homework)\n",
    "Return solution via mycourses by the deadline. "
   ]
  },
  {
   "cell_type": "markdown",
   "metadata": {},
   "source": [
    "Consider a random variable $X$ with a pdf of the form\n",
    "$$\n",
    "f_X(x) = \\frac{2x}{a^2}, \\quad 0\\leq x \\leq a\n",
    "$$\n",
    "for some  fixed known $a>0$.\n",
    "***"
   ]
  },
  {
   "cell_type": "code",
   "execution_count": null,
   "metadata": {},
   "outputs": [],
   "source": [
    "import numpy as np\n",
    "import matplotlib.pyplot as plt\n",
    "from matplotlib import rc\n",
    "import seaborn as sns\n",
    "\n",
    "np.random.seed(0)\n",
    "\n",
    "sns.set_context(\"poster\")\n",
    "sns.set_style(\"whitegrid\") \n",
    "# The following rc lines provide slightly prettier plots and allow LaTeX formatting\n",
    "# but require you to have LaTeX and some related dependencies installed!\n",
    "#rc('font',**{'family':'serif','serif':['Computer Modern Roman']})\n",
    "#rc(\"text\", usetex=True)\n",
    "#rc('lines', linewidth=2.5)"
   ]
  },
  {
   "cell_type": "markdown",
   "metadata": {},
   "source": [
    "## Question 4(a)\n",
    "Write a function named `randgen(N, a)` that generates $N$ independent random variables from the distribution above for any given parameter $a>0$ using the **inverse transform sampling method**. \n",
    "\n",
    "_Note:_ You need to show  the derivations of the  necessary equations needed in the inverse transform sampling method. (Take a scan or photo of your derivations or write down the derivations in the returned Python Notebook)."
   ]
  },
  {
   "cell_type": "markdown",
   "metadata": {},
   "source": [
    "_Answer:_"
   ]
  },
  {
   "cell_type": "code",
   "execution_count": null,
   "metadata": {},
   "outputs": [],
   "source": [
    "# your function randgen should be written here"
   ]
  },
  {
   "cell_type": "markdown",
   "metadata": {},
   "source": [
    "## Question 4(b)\n",
    "Generate $N=10000$ observations from the distribution when the parameter is $a=20$. Set the number of bins to 30.  Plot the graphs of the empirical and theoretical pdfs in the same figure. "
   ]
  },
  {
   "cell_type": "code",
   "execution_count": null,
   "metadata": {},
   "outputs": [],
   "source": [
    "# you code \n",
    "plt.figure(figsize=(10, 10))\n",
    "# your code \n",
    "plt.xlabel(\"$x$\")\n",
    "plt.ylabel(\"$f_X(x)$\")\n",
    "plt.legend()\n",
    "plt.show()"
   ]
  },
  {
   "cell_type": "code",
   "execution_count": null,
   "metadata": {},
   "outputs": [],
   "source": []
  }
 ],
 "metadata": {
  "interpreter": {
   "hash": "916dbcbb3f70747c44a77c7bcd40155683ae19c65e1c03b4aa3499c5328201f1"
  },
  "kernelspec": {
   "display_name": "Python 3 (ipykernel)",
   "language": "python",
   "name": "python3"
  },
  "language_info": {
   "codemirror_mode": {
    "name": "ipython",
    "version": 3
   },
   "file_extension": ".py",
   "mimetype": "text/x-python",
   "name": "python",
   "nbconvert_exporter": "python",
   "pygments_lexer": "ipython3",
   "version": "3.8.5"
  }
 },
 "nbformat": 4,
 "nbformat_minor": 2
}
