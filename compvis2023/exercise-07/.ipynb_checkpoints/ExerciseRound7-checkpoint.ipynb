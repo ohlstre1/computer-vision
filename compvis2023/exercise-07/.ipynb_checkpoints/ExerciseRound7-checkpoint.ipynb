{
 "cells": [
  {
   "cell_type": "code",
   "execution_count": null,
   "metadata": {
    "tags": []
   },
   "outputs": [],
   "source": [
    "# This cell is used for creating a button that hides/unhides code cells to quickly look only the results.\n",
    "# Works only with Jupyter Notebooks.\n",
    "\n",
    "import os\n",
    "from IPython.display import HTML\n",
    "\n",
    "HTML('''<script>\n",
    "code_show=true;\n",
    "function code_toggle() {\n",
    "if (code_show){\n",
    "$('div.input').hide();\n",
    "} else {\n",
    "$('div.input').show();\n",
    "}\n",
    "code_show = !code_show\n",
    "}\n",
    "$( document ).ready(code_toggle);\n",
    "</script>\n",
    "<form action=\"javascript:code_toggle()\"><input type=\"submit\" value=\"Click here to toggle on/off the raw code.\"></form>''')"
   ]
  },
  {
   "cell_type": "code",
   "execution_count": null,
   "metadata": {
    "tags": []
   },
   "outputs": [],
   "source": [
    "# Description:\n",
    "#   Exercise7 notebook.\n",
    "#\n",
    "# Copyright (C) 2018 Santiago Cortes, Juha Ylioinas\n",
    "#\n",
    "# This software is distributed under the GNU General Public \n",
    "# Licence (version 2 or later); please refer to the file \n",
    "# Licence.txt, included with the software, for details.\n",
    "\n",
    "# Preparations\n",
    "import numpy as np\n",
    "\n",
    "# Select data directory\n",
    "if os.path.isdir('/coursedata'):\n",
    "    # JupyterHub\n",
    "    course_data_dir = '/coursedata'\n",
    "elif os.path.isdir('../../../coursedata'):\n",
    "    # Local installation\n",
    "    course_data_dir = '../../../coursedata'\n",
    "else:\n",
    "    # Docker\n",
    "    course_data_dir = '/home/jovyan/work/coursedata/'\n",
    "\n",
    "print('The data directory is %s' % course_data_dir)\n",
    "data_dir = os.path.join(course_data_dir, 'exercise-07-data')\n",
    "print('Data stored in %s' % data_dir)"
   ]
  },
  {
   "cell_type": "markdown",
   "metadata": {},
   "source": [
    "# CS-E4850 Computer Vision Exercise Round 7\n",
    "\n",
    "### Name:Edvard Ohlström\n",
    "### Student number:729255\n",
    "\n",
    "The problems should be solved before the exercise session and solutions returned via\n",
    "MyCourses. <br><br> For this exercise round, upload this notebook(pdf and .ipynb versions) containing your source codes (for Exercise 1) and your answer to the question of Exercise2, and all the answers to the questions of Exercise 3 (VGG practical), see part[1-3].ipynb. Note that it's not necessary to upload part1.ipynb, part2.ipynb or part3.ipynb, because all of the necessary questions related to them are contained in this notebook and you're not expected to do any coding in Exercises 2 and 3."
   ]
  },
  {
   "cell_type": "markdown",
   "metadata": {},
   "source": [
    "## Exercise 1 - Comparing  bags-of-words  with  tf-idf  weighting\n",
    "Assume  that  we  have  an  indexed  collection  of  documents  containing  the  five  terms  of the following table where the second row indicates the percentage of documents in which each term appears.<br>\n",
    "\n",
    "| term | cat | dog |mammals | mouse | pet |\n",
    "| --- | :---: | :---: | :---: | :---: | :---: |\n",
    "| **% of documents** | 5 | 20 | 2 | 10 | 60 |\n",
    "\n",
    "Now, given the query $Q=\\{mouse, cat, pet, mammals\\}$, compute the similarity between $Q$ and the following example documents $D1$, $D2$, $D3$, by using the cosine similarity measure and tf-idf weights (i.e. term frequency - inverse document frequency) for the bag-of-words histogram representations of the documents and the query.\n",
    "\n",
    "-  $D1$ = Cat is a pet, dog is a pet, and mouse may be a pet too.\n",
    "-  $D2$ = Cat, dog and mouse are all mammals.\n",
    "-  $D3$ = Cat and dog get along well, but cat may eat a mouse.\n",
    "\n",
    "Ignore other words except the five terms, which are listed in the table above. You may proceed with the following steps:\n",
    "\n",
    "a) Compute and report the inverse document frequency (idf) for each of the five terms. Use the logarithm with base 2.  (idf is the logarithm term on slide 69 of Lecture 6 where values $n_i/N$ are given in the table above.)<br>\n",
    "b) Compute the term frequencies for the query and each document. <br>\n",
    "c) Form the tf-idf weighted word occurrence histograms for the query and documents. <br>\n",
    "d) Evaluate the cosine similarity between the query and each document (i.e.\\ normalized scalar product between the weighted occurrence histograms as shown on slide 45).<br> \n",
    "e) Report the relative ranking of the documents. (You should get similarities 0.95, 0.64, and 0.63, but you need to determine which corresponds to which document.)<br>"
   ]
  },
  {
   "cell_type": "code",
   "execution_count": 22,
   "metadata": {
    "tags": []
   },
   "outputs": [],
   "source": [
    "import math\n",
    "\n",
    "terms = ['cat', 'dog', 'mammals', 'mouse', 'pet']\n",
    "doc_freq = [5, 20, 2, 10, 60]\n",
    "N = 100  \n",
    "\n",
    "documents = [\n",
    "    \"Cat is a pet, dog is a pet, and mouse may be a pet too.\",\n",
    "    \"Cat, dog and mouse are all mammals.\",\n",
    "    \"Cat and dog get along well, but cat may eat a mouse.\"\n",
    "]\n",
    "query = \"mouse, cat, pet, mammals\"\n",
    "\n",
    "# a) Compute IDF for each term\n",
    "idf = {}\n",
    "for term, df in zip(terms, doc_freq):\n",
    "    idf[term] = math.log2(N / df)\n",
    "\n",
    "# b) Compute term frequencies for query and each document\n",
    "def term_frequency(text):\n",
    "    tf = {}\n",
    "    for term in terms:\n",
    "        tf[term] = text.lower().count(term)\n",
    "    return tf\n",
    "\n",
    "tf_query = term_frequency(query)\n",
    "tf_docs = [term_frequency(doc) for doc in documents]\n",
    "\n",
    "# c) Compute tf-idf histograms\n",
    "def compute_tf_idf(tf, idf):\n",
    "    return {term: freq * idf[term] for term, freq in tf.items()}\n",
    "\n",
    "tf_idf_query = compute_tf_idf(tf_query, idf)\n",
    "tf_idf_docs = [compute_tf_idf(tf, idf) for tf in tf_docs]\n",
    "\n",
    "# d) Cosine similarity\n",
    "def cosine_similarity(vec1, vec2):\n",
    "    dot_product = sum(vec1[term] * vec2[term] for term in terms)\n",
    "    magnitude1 = math.sqrt(sum(val ** 2 for val in vec1.values()))\n",
    "    magnitude2 = math.sqrt(sum(val ** 2 for val in vec2.values()))\n",
    "    return dot_product / (magnitude1 * magnitude2)\n",
    "\n",
    "similarities = [cosine_similarity(tf_idf_query, doc) for doc in tf_idf_docs]\n",
    "\n",
    "\n",
    "ranking = sorted(enumerate(similarities, 1), key=lambda x: x[1], reverse=True)\n"
   ]
  },
  {
   "cell_type": "code",
   "execution_count": 23,
   "metadata": {
    "tags": []
   },
   "outputs": [
    {
     "name": "stderr",
     "output_type": "stream",
     "text": [
      "/tmp/ipykernel_440/120060129.py:10: UserWarning: FixedFormatter should only be used together with FixedLocator\n",
      "  ax.set_xticklabels(terms, rotation=45)\n"
     ]
    },
    {
     "data": {
      "image/png": "[encoded data removed]",
      "text/plain": [
       "<Figure size 1100x400 with 4 Axes>"
      ]
     },
     "metadata": {},
     "output_type": "display_data"
    }
   ],
   "source": [
    "import matplotlib.pyplot as plt\n",
    "\n",
    "def plot_histogram(ax, tf_idf_values, title):\n",
    "    ax.bar(tf_idf_values.keys(), tf_idf_values.values())\n",
    "    ax.set_title(title)\n",
    "    ax.set_ylabel('TF-IDF Value')\n",
    "    ax.set_xticklabels(terms, rotation=45)\n",
    "    ax.grid(axis='y')\n",
    "\n",
    "fig, axes = plt.subplots(1,4 , figsize=(11, 4))\n",
    "\n",
    "plot_histogram(axes[0], tf_idf_query, 'TF-IDF for Query')\n",
    "for i, tf_idf in enumerate(tf_idf_docs, 1):\n",
    "    plot_histogram(axes[i], tf_idf, f'TF-IDF for D{i}')\n",
    "\n",
    "plt.tight_layout()\n",
    "plt.show()\n"
   ]
  },
  {
   "cell_type": "code",
   "execution_count": 26,
   "metadata": {
    "tags": []
   },
   "outputs": [
    {
     "name": "stdout",
     "output_type": "stream",
     "text": [
      "IDF\n",
      "cat: 4.3219, dog: 2.3219, mammals: 5.6439, mouse: 3.3219, pet: 0.7370\n",
      "TF for Query \n",
      "cat: 1, dog: 0, mammals: 1, mouse: 1, pet: 1\n",
      "TF for D1 \n",
      "cat: 1, dog: 1, mammals: 0, mouse: 1, pet: 3\n",
      "TF for D2 \n",
      "cat: 1, dog: 1, mammals: 1, mouse: 1, pet: 0\n",
      "TF for D3 \n",
      "cat: 2, dog: 1, mammals: 0, mouse: 1, pet: 0\n",
      "TF-IDF for Query \n",
      "cat: 4.3219, dog: 0.0000, mammals: 5.6439, mouse: 3.3219, pet: 0.7370\n",
      "TF-IDF for D1 \n",
      "cat: 4.3219, dog: 2.3219, mammals: 0.0000, mouse: 3.3219, pet: 2.2109\n",
      "TF-IDF for D2 \n",
      "cat: 4.3219, dog: 2.3219, mammals: 5.6439, mouse: 3.3219, pet: 0.0000\n",
      "TF-IDF for D3 \n",
      "cat: 8.6439, dog: 2.3219, mammals: 0.0000, mouse: 3.3219, pet: 0.0000\n",
      "Similarities \n",
      "Q vs. D1: 0.6289, Q vs. D2: 0.9547, Q vs. D3: 0.6432\n",
      "Ranking \n",
      "1. D2 (0.9547), 2. D3 (0.6432), 3. D1 (0.6289)\n"
     ]
    }
   ],
   "source": [
    "# Display the results in a compact manner\n",
    "\n",
    "print(\"IDF\")\n",
    "print(\", \".join([f\"{term}: {value:.4f}\" for term, value in idf.items()]))\n",
    "\n",
    "print(\"TF for Query \")\n",
    "print(\", \".join([f\"{term}: {value}\" for term, value in tf_query.items()]))\n",
    "\n",
    "for i, tf in enumerate(tf_docs, 1):\n",
    "    print(f\"TF for D{i} \")\n",
    "    print(\", \".join([f\"{term}: {value}\" for term, value in tf.items()]))\n",
    "\n",
    "print(\"TF-IDF for Query \")\n",
    "print(\", \".join([f\"{term}: {value:.4f}\" for term, value in tf_idf_query.items()]))\n",
    "\n",
    "for i, tf_idf in enumerate(tf_idf_docs, 1):\n",
    "    print(f\"TF-IDF for D{i} \")\n",
    "    print(\", \".join([f\"{term}: {value:.4f}\" for term, value in tf_idf.items()]))\n",
    "\n",
    "print(\"Similarities \")\n",
    "print(\", \".join([f\"Q vs. D{i+1}: {sim:.4f}\" for i, sim in enumerate(similarities)]))\n",
    "\n",
    "print(\"Ranking \")\n",
    "print(\", \".join([f\"{i+1}. D{rank[0]} ({rank[1]:.4f})\" for i, rank in enumerate(ranking)]))\n"
   ]
  },
  {
   "cell_type": "markdown",
   "metadata": {},
   "source": [
    "## Exercise 2 - Precision  and  recall\n",
    "There is a database of 10000 images and a user, who is only interested in images which contain a car. It is known that there are 500 such images in the database. An  automatic image retrieval system retrieves 300 car images and 50 other images from the database. Determine and report the precision and recall of the retrieval  system in this particular case.<br> \n",
    "(Hint: Precision and recall are explained on slide 67 of Lecture 6 and there is a good explanation also in Wikipedia.)\n",
    "\n",
    "\n",
    "![alt text](Screenshot.png)"
   ]
  },
  {
   "cell_type": "markdown",
   "metadata": {},
   "source": [
    "## Exercise 3 - VGG practical on object instance recognition\n",
    "See the questions in part[1-3].ipynb and write your answers here.\n",
    "\n",
    "Part1:\n",
    "Stage I.A (two questions)\n",
    "Stage I.B (two questions)\n",
    "Stage I.C (one question)\n",
    "\n",
    "Part2 (one question)\n",
    "\n",
    "Part3:\n",
    "Stage III.A (three questions)\n",
    "Stage III.B (one question)\n",
    "Stage III.C (two questions)\n",
    "\n",
    "Answering questions in part 1 corresponds to one bonus point and parts 2 and 3 together correspond to one additional point. Hence, in total this third task is worth of 2 points, whereas the previous tasks (Exercise 1 and Exercise 2) are both worth of 1 point so that in total this homework round is worth of 4 points."
   ]
  },
  {
   "cell_type": "markdown",
   "metadata": {},
   "source": [
    "\n",
    "\n",
    "\n",
    "\n",
    "\n",
    "## Stage I.A\n",
    "\n",
    "\n",
    "<b>Question</b>: Note the change in density of detections across the image. Why does it change? Will it be a problem for matching? How could it be avoided?\n",
    "\n",
    "Density is changing because of different lightning condition. The picture on the right side has a lot less distinct features and therefore density is lower. Matching will probably a bit inaccurate but pictures still has similar features and some parings will be succesful. To make the matching better techniques such as keypoint filtering and and local feature normalization.\n",
    "\n",
    "\n",
    "<b>Question</b>: Occasionally, a feature is detected multiple times, with different orientations. This may happen when the orientation assignment is ambiguous. Which kind of image structure would result in ambiguous orientation assignment?\n",
    "\n",
    "When a feature is detected multiple times in a random or non distnicunal order. This can be caused by regions of repetetive patterns or abstract patterns without sence of direction. For example chess board or the sun. \n",
    "\n",
    "\n",
    "\n",
    "## Stage I.B\n",
    "\n",
    "<b>Question</b>: Note the descriptors are computed over a much larger region (shown in blue) than the detection (shown in green). Why?\n",
    "\n",
    "Descriptors are first divided into a 4x4 matrix where each subsection uses 8 gradient orentations. Gradients are less sensitive to ilumination changes and pooling of gradients over sub-patches acchives robustness and bettter preservation of spatial imformation contrary to detection which is point pixel vectors.   \n",
    "\n",
    "\n",
    "<b>Question</b>: Notice that there are many mismatches. Examine some of the mismatches to understand why the mistakes are being made. For example, is the change in lighting a problem? What additional constraints can be applied to remove the mismatches?\n",
    "\n",
    "\n",
    "Yes, the change in lighting is probably the problem. From the image, it seems like one side has more shadows and possibly different lighting conditions compared to the other. This can cause the SIFT descriptors to appear different even for the same scene points. Another problem may be reperative patterns where there are similar patterns inside the nearest neighbour. Use algorithms like RANSAC as this can improve results or use Lowes test as shown in next assignment. \n",
    "\n",
    "\n",
    "\n",
    "## Stage I.C\n",
    "\n",
    "\n",
    "<b>Question</b>: Examine some of the remaining mismatches to understand why they have occurred. How could they be removed?\n",
    "\n",
    "The rest of the mismatches can be removed by trying different values for nnThreshold. Even though the assignment presents 0.8 as good compromise an values of 0.5 seems to be more accurate by observation. Otherwise the rest of the problems are same as in the earlier assignment.\n",
    "\n",
    "- Repetitive Patterns: If there's a repetitive texture or pattern in the scene, even with the 2nd NN test, some mismatches might still be present.\n",
    "- Lighting Variations: Extreme lighting changes can cause descriptors of the same scene point to differ significantly\n",
    "\n",
    "\n"
   ]
  },
  {
   "cell_type": "markdown",
   "metadata": {},
   "source": [
    "\n",
    "## Stage II\n",
    "\n",
    "\n",
    "<b>Question</b>: The transformation between the images induced by the plane is a planar homography. The detections are only affine co-variant (not as general as a planar homography). So how can descriptors computed on these detections possibly match?\n",
    "\n",
    "Affine-covariant keypoints are designed to detect the regions close to affine transformations. SIFT descriptors capture the local features around these keypoints and despite the overall planar homography between images, over small patches, this can approximate to affine. Therefore, descriptors can realiabily find matches in the images."
   ]
  },
  {
   "cell_type": "markdown",
   "metadata": {},
   "source": [
    "\n",
    "\n",
    "## Stage III.A\n",
    "\n",
    "<b>Questions</b>: The size of the vocabulary (the number of clusters) is an important parameter in visual word algorithms. How does the size affect the number of inliers and the difficulty of computing the transformation?\n",
    "\n",
    "A larger vocabulary offers more specificity, potentially reducing false matches but might increase false negatives. A smaller vocabulary might lump different features together, increasing false positives. Therefore there is an tradeoff.\n",
    "\n",
    "\n",
    "<b>Questions</b>: In the above procedure the time required to convert the descriptors into visual words was not accounted for. Why?\n",
    "\n",
    "Quantization is typically a one-time cost per image and can be pre-computed for stored images.\n",
    "\n",
    "<b>Questions</b>: What is the speedup in searching a large, fixed database of 10, 100, 1000 images? \n",
    "\n",
    "Bag of words provides considerable speedup when searching in larger databases. Direct matching scales linearly with database size, whereas BoW, using an inverted index, remains relatively constant, making it efficient.\n",
    "\n",
    "\n",
    "## Stage III.B \n",
    "\n",
    "<b>Question</b>: Why does the top image have a score of 1 (0.9698 in python)?\n",
    "\n",
    "The top image has a score close to 1 because it is essentially the same image as the query image. The reson for this is to test that the systme can retrive and recoginse the intended picture.\n",
    "\n",
    "\n",
    "## Stage III.C\n",
    "\n",
    "\n",
    "<b>Question</b>: Why is the top score much larger than 1 now?<br>\n",
    "\n",
    "Because we use another system to rankt the pictures. In the first example we used score based on histogram similarities, where the maximum score of 1. Insted now we use a score representing the count of inliers, which is an integer depending on the actual matches found,\n",
    "\n",
    "<b>Question</b>: Are the retrieval results improved after geometric verification?\n",
    "\n",
    "Yes, in the first example 6 of the best rated picutres where the same house as the comparable picture when in the geometric verification found 10 pictures."
   ]
  }
 ],
 "metadata": {
  "kernelspec": {
   "display_name": "Python 3",
   "language": "python",
   "name": "python3"
  },
  "language_info": {
   "codemirror_mode": {
    "name": "ipython",
    "version": 3
   },
   "file_extension": ".py",
   "mimetype": "text/x-python",
   "name": "python",
   "nbconvert_exporter": "python",
   "pygments_lexer": "ipython3",
   "version": "3.10.8"
  },
  "vscode": {
   "interpreter": {
    "hash": "31f2aee4e71d21fbe5cf8b01ff0e069b9275f58929596ceb00d14d90e3e16cd6"
   }
  }
 },
 "nbformat": 4,
 "nbformat_minor": 4
}
